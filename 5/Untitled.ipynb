{
 "cells": [
  {
   "cell_type": "markdown",
   "metadata": {},
   "source": [
    "## Преобразование твёрдого тела\n",
    "\n",
    "Необходимо решить задачу\n",
    "\n",
    "$$\\sum_i ||Rq_i + t - p_i||^2 \\rightarrow \\min$$\n",
    "\n",
    "Распишем\n",
    "\n",
    "$$\\sum_i (Rq_i + t - p_i)^T(Rq_i + t - p_i) = \n",
    "\\sum_i\\bigg(q_i^TR^TRq_i + q_i^TR^Tt - q_i^TR^Tp_i + t^TRq_i + t^Tt - t^Tp_i - p_i^TRq_i - p_i^Tt + p_i^Tp_i\\bigg)$$\n",
    "\n",
    "Заметим\n",
    "\n",
    "$$q_i^TR^Tt = t^TRq_i$$\n",
    "$$R^TR = I$$\n",
    "$$q_i^TR^Tp_i = p_i^TRq_i$$\n",
    "\n",
    "Продифференцируем по $R$\n",
    "\n",
    "$$\\frac{\\delta}{\\delta R}\\sum_i (Rq_i + t - p_i)^T(Rq_i + t - p_i) = \n",
    "\\sum_i \\bigg(2tq_i^T - 2p_iq_i^T \\bigg) = 0$$\n",
    "$$t\\sum_iq_i^T = \\sum_ip_iq_i^T$$\n",
    "\n",
    "Продифференцируем по $t$\n",
    "\n",
    "$$\\frac{\\delta}{\\delta t}\\sum_i (Rq_i + t - p_i)^T(Rq_i + t - p_i) = \n",
    "\\sum_i\\bigg( 2Rq_i + 2t - 2p_i\\bigg) = 0$$\n",
    "$$ t = \\frac{1}{N}\\sum_i\\bigg(p_i - Rq_i\\bigg) $$\n",
    "\n",
    "Подставим $t$ в предыдущее уравнение\n",
    "\n",
    "$$\\sum_ip_i\\sum_iq_i^T - R\\sum_iq_i\\sum_iq_i^T = N\\sum_ip_iq_i^T $$\n",
    "$$\\sum_ip_i\\sum_iq_i^T - N\\sum_ip_iq_i^T = R\\sum_iq_i\\sum_iq_i^T $$\n",
    "\n",
    "\n"
   ]
  },
  {
   "cell_type": "code",
   "execution_count": null,
   "metadata": {
    "collapsed": true
   },
   "outputs": [],
   "source": []
  }
 ],
 "metadata": {
  "kernelspec": {
   "display_name": "Python 2",
   "language": "python",
   "name": "python2"
  },
  "language_info": {
   "codemirror_mode": {
    "name": "ipython",
    "version": 2
   },
   "file_extension": ".py",
   "mimetype": "text/x-python",
   "name": "python",
   "nbconvert_exporter": "python",
   "pygments_lexer": "ipython2",
   "version": "2.7.10"
  }
 },
 "nbformat": 4,
 "nbformat_minor": 0
}
