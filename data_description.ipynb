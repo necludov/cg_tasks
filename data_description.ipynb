{
 "cells": [
  {
   "cell_type": "markdown",
   "metadata": {},
   "source": [
    "## Описание данных\n",
    "\n",
    "Вам предоставляется история команд-участников в следующем виде:\n",
    "\n",
    "- Файл selected_team_matches.csv содержит общую информацию о турнирных матчах команд.\n",
    "    1. дата матча,\n",
    "    2. название турнира,\n",
    "    3. имя команды, которая играла за сторону radiant,\n",
    "    4. имя команды, которая играла за сторону dire,\n",
    "    5. победившая сторона,\n",
    "    6. id матча."
   ]
  },
  {
   "cell_type": "code",
   "execution_count": 8,
   "metadata": {
    "collapsed": false
   },
   "outputs": [
    {
     "data": {
      "text/html": [
       "<div>\n",
       "<table border=\"1\" class=\"dataframe\">\n",
       "  <thead>\n",
       "    <tr style=\"text-align: right;\">\n",
       "      <th></th>\n",
       "      <th>date</th>\n",
       "      <th>tournament</th>\n",
       "      <th>radiant</th>\n",
       "      <th>dire</th>\n",
       "      <th>winner</th>\n",
       "      <th>match_id</th>\n",
       "    </tr>\n",
       "  </thead>\n",
       "  <tbody>\n",
       "    <tr>\n",
       "      <th>0</th>\n",
       "      <td>2012-06-24</td>\n",
       "      <td>The Defense 2</td>\n",
       "      <td>WhA</td>\n",
       "      <td>EG</td>\n",
       "      <td>DIRE</td>\n",
       "      <td>22270148</td>\n",
       "    </tr>\n",
       "    <tr>\n",
       "      <th>1</th>\n",
       "      <td>2012-06-28</td>\n",
       "      <td>The Defense 2</td>\n",
       "      <td>Unknown</td>\n",
       "      <td>EG</td>\n",
       "      <td>DIRE</td>\n",
       "      <td>22959375</td>\n",
       "    </tr>\n",
       "    <tr>\n",
       "      <th>2</th>\n",
       "      <td>2012-06-29</td>\n",
       "      <td>StarSeries II Finals</td>\n",
       "      <td>EG</td>\n",
       "      <td>Empire</td>\n",
       "      <td>DIRE</td>\n",
       "      <td>23152391</td>\n",
       "    </tr>\n",
       "    <tr>\n",
       "      <th>3</th>\n",
       "      <td>2012-06-29</td>\n",
       "      <td>StarSeries II Finals</td>\n",
       "      <td>EG</td>\n",
       "      <td>NEXT.kz</td>\n",
       "      <td>RADIANT</td>\n",
       "      <td>23160256</td>\n",
       "    </tr>\n",
       "    <tr>\n",
       "      <th>4</th>\n",
       "      <td>2012-07-11</td>\n",
       "      <td>The Defense 2</td>\n",
       "      <td>EG</td>\n",
       "      <td>Unknown</td>\n",
       "      <td>DIRE</td>\n",
       "      <td>25449321</td>\n",
       "    </tr>\n",
       "  </tbody>\n",
       "</table>\n",
       "</div>"
      ],
      "text/plain": [
       "         date            tournament  radiant     dire   winner  match_id\n",
       "0  2012-06-24         The Defense 2      WhA       EG     DIRE  22270148\n",
       "1  2012-06-28         The Defense 2  Unknown       EG     DIRE  22959375\n",
       "2  2012-06-29  StarSeries II Finals       EG   Empire     DIRE  23152391\n",
       "3  2012-06-29  StarSeries II Finals       EG  NEXT.kz  RADIANT  23160256\n",
       "4  2012-07-11         The Defense 2       EG  Unknown     DIRE  25449321"
      ]
     },
     "execution_count": 8,
     "metadata": {},
     "output_type": "execute_result"
    }
   ],
   "source": [
    "import pandas as pd\n",
    "\n",
    "matches_info = pd.read_csv('selected_team_matches.csv')\n",
    "matches_info.head()"
   ]
  },
  {
   "cell_type": "markdown",
   "metadata": {},
   "source": [
    "- Файл selected_team_match_info.jsonlines содержит детальную информацию на конец матча. Пример:"
   ]
  },
  {
   "cell_type": "code",
   "execution_count": null,
   "metadata": {
    "collapsed": true
   },
   "outputs": [],
   "source": [
    "{\n",
    "    # информация по команде dire\n",
    "    'dire_captain': 140153524,       # id пользователя, который является капитаном\n",
    "    'dire_logo': 438325350317236404, # id логотипа команды\n",
    "    'dire_name': u'CDEC Gaming',     # имя команды\n",
    "    'dire_team_complete': 1,         # 1, если команда играет в полном составе\n",
    "    'dire_team_id': 1520578,         # id команды\n",
    "    \n",
    "    # информация по команде radiant\n",
    "    'radiant_captain': 101695162,\n",
    "    'radiant_logo': 35248220277958798,\n",
    "    'radiant_name': u'Vici Gaming',\n",
    "    'radiant_team_complete': 1,\n",
    "    'radiant_team_id': 726228,\n",
    "    \n",
    "    # информация на конец матча\n",
    "    'radiant_win': False,          # true, если победила сторона radiant\n",
    "    'start_time': 1438225184,      # время начала матча в формате UNIX timestamp\n",
    "    'duration': 2446,              # длительность матча в секундах\n",
    "    'first_blood_time': 227,       # время первого убийства в секундах от начала матча\n",
    "    'game_mode': 2,                # режим игры 2 == captains_mode\n",
    "    'leagueid': 2733,              # id лиги\n",
    "    'match_id': 1671421953,        # id матча\n",
    "    'match_seq_num': 1489986726,   # порядковый номер матча\n",
    "    'negative_votes': 128,         # число отрицательных оценок зрителей\n",
    "    'positive_votes': 2423,        # число положительных оценок зрителей\n",
    "    'barracks_status_dire': 63,    # состояние бараков\n",
    "    'barracks_status_radiant': 63, # (см. ниже битовую маску) \n",
    "    'tower_status_dire': 1972,     # состояние вышек \n",
    "    'tower_status_radiant': 1796   # (см. ниже битовую маску) \n",
    "    \n",
    "    # выбор героев (стадия пиков и банов)\n",
    "    'picks_bans': [\n",
    "        {\n",
    "            'hero_id': 52,     # id героя\n",
    "            'is_pick': False,  # true, если герой был выбран командой, false, если запрещён\n",
    "            'order': 0,        # порядковый номер действия\n",
    "            'team': 1          # 0, если действие совершила команда radiant, 1, если команда dire\n",
    "        },\n",
    "        ...\n",
    "    ],\n",
    "    \n",
    "    # информация про игроков\n",
    "    'players': [\n",
    "        {\n",
    "            # информация про изучения способностей\n",
    "            'ability_upgrades': [\n",
    "                {\n",
    "                    'ability': 5582, # id способности\n",
    "                    'level': 2,      # уровень героя, на котором способность была изучена\n",
    "                    'time': 937      # время в секундах от начала матча, когда способность была изучена\n",
    "                },\n",
    "                ...\n",
    "            ],\n",
    "            'account_id': 101695162, # id пользователя\n",
    "            'assists': 3,            # кол-во \"ассистов\"\n",
    "            'deaths': 6,             # кол-во смертей\n",
    "            'denies': 5,             # кол-во добитых союзных \"крипов\"\n",
    "            'gold': 787,             # золото игрока по окончанию матча\n",
    "            'gold_per_min': 221,     # среднее заработанное золото в минуту\n",
    "            'gold_spent': 7520,      # потраченное золото\n",
    "            'hero_damage': 6170,     # нанесённый урон\n",
    "            'hero_healing': 543,     # кол-во восстановленного здоровья себе и союзникам\n",
    "            'hero_id': 101,          # id героя\n",
    "            'item_0': 79,            # id предмета в 0 слоте рюкзака\n",
    "            'item_1': 187,\n",
    "            'item_2': 46,\n",
    "            'item_3': 0,\n",
    "            'item_4': 180,\n",
    "            'item_5': 77,\n",
    "            'kills': 3,              # кол-во совершённых убийств\n",
    "            'last_hits': 66,         # кол-во добитых вражеских \"крипов\"\n",
    "            'leaver_status': 0,      # 0, если игрок не покидал игру до конца игры\n",
    "            'level': 13,             # уровень героя на конец игры\n",
    "            'tower_damage': 0,       # урон, нанесённый героем по вышкам\n",
    "            'xp_per_min': 223        # средний получаемый опыт в минуту\n",
    "        },\n",
    "        ...\n",
    "    ]\n",
    "    \n",
    "}"
   ]
  },
  {
   "cell_type": "markdown",
   "metadata": {},
   "source": [
    "Пример загрузки матча"
   ]
  },
  {
   "cell_type": "code",
   "execution_count": 5,
   "metadata": {
    "collapsed": false
   },
   "outputs": [],
   "source": [
    "import json\n",
    "import bz2\n",
    "\n",
    "with bz2.BZ2File('selected_team_match_info.jsonlines.bz2') as matches_file:\n",
    "    for line in matches_file:\n",
    "        match = json.loads(line)\n",
    "        \n",
    "        # Обработка матча\n",
    "        break"
   ]
  },
  {
   "cell_type": "markdown",
   "metadata": {},
   "source": [
    "## P.S.\n",
    "\n",
    "- Вам разрешается пользоваться любыми источниками, для получения данных.\n",
    "- Полезная ссылка http://dev.dota2.com/showthread.php?t=58317"
   ]
  },
  {
   "cell_type": "code",
   "execution_count": null,
   "metadata": {
    "collapsed": true
   },
   "outputs": [],
   "source": []
  }
 ],
 "metadata": {
  "kernelspec": {
   "display_name": "Python 2",
   "language": "python",
   "name": "python2"
  },
  "language_info": {
   "codemirror_mode": {
    "name": "ipython",
    "version": 2
   },
   "file_extension": ".py",
   "mimetype": "text/x-python",
   "name": "python",
   "nbconvert_exporter": "python",
   "pygments_lexer": "ipython2",
   "version": "2.7.10"
  }
 },
 "nbformat": 4,
 "nbformat_minor": 0
}
